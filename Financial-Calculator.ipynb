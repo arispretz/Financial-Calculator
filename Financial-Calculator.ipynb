Functions for the Project
# Write your code here
def mortage_payments():
    p = float(input("Amount borrowed: "))
    r = float(input("Annual percentage rate: "))
    t = float(input("Number of years: "))

# Write your code here and change the pmt variable

    mult = 1+r/12
    exp = 12*t
    top = r/12*mult**exp
    bot = (mult**exp)-1
    pmt = top/bot

    print("Monthly payment = $", pmt)

mortage_payments()


def investment_balance():
    p = float(input("Starting amount: "))
    r = float(input("Annual percentage rate: "))
    t = int(input("Number of years: "))
    monthly = float(input("Monthly contribution: "))

# Hint: keep updating this annuity variable in the loop
    annuity = p

# Each iteration of the loop represents one month
    for a in range(12*t):
        annuity = annuity + monthly
    # Change the next line to calculate the interest
        interest = annuity * r / 12
        annuity = annuity + interest

# Keep this line:
    print("Annuity = ", annuity)

investment_balance()

More functions
# Write your code here
%matplotlib inline
from ipywidgets import interactive
import matplotlib.pyplot as plt
import numpy as np
from IPython.display import display, Math

# Change the next line:
def f(a, b, c):
    a = int(input("Enter first coefficient: "))
    b = int(input("Enter second coefficient: "))
    c = int(input("Enter third coefficient: "))
    plt.axis([-10,10,-10,10]) # window size
    plt.plot([-10,10],[0,0],'k') # blue x axis
    plt.plot([0,0],[-10,10], 'k') # blue y axis
    x = np.linspace(-10, 10, 200)
    plt.plot(x, a*x**2+b*x+c) # Change this line
    plt.show()

# Change the next line:
interactive_plot = interactive(f, a=(-9, 9), b=(-9, 9), c=(-9, 9))
display(interactive_plot)

New function
# Write your code here


def time_to_double_continuous():
    import math

    r = float(input("Enter the annual rate as a decimal: \n"))
    t = math.log(2)/r
    print("Your money will double in ", t, " years")

time_to_double_continuous()

Financial App
# Write your code here

# Mortgage payment - given principle, rate, time
def mortage_payments():
    p = float(input("Amount borrowed: "))
    r = float(input("Annual percentage rate: "))
    t = int(input("Number of years: "))

    mult = 1+r/12
    exp = 12*t
    top = r/12*mult**exp
    bot = (mult**exp)-1
    pmt = top/bot

    print("Monthly payment = $", pmt)



# Time required for money to double - given the rate
def time_to_double_continuous():
    import math

    r = float(input("Enter the annual rate as a decimal: \n"))
    t = math.log(2)/r
    print("Your money will double in ", t, " years")



# Rate of growth - given starting value, time, and ending value
def calculate_growth_rate():
    import math

    start_value = float(input("Enter the starting value: "))
    end_value = float(input("Enter the ending value: "))

    time_years = float(input("Enter the time in years: "))

    growth_rate = math.log(end_value / start_value) / time_years

    print("Rate of growth (annual growth rate): ", growth_rate)



# Calculate annuity with monthly or continuous growth
def annuity():
    p = float(input("Starting amount: "))
    r = float(input("Percentage rate, converted to a decimal: "))
    t = int(input("Number of years this investment will grow: "))
    n = int(input("Number of times compounded per year: "))

    annuity = p*(1+(r/n))**(n*t)

    print("The annuity is ", annuity)



# Estimate retirement investment balance
def retirement_investment_balance():
    p = float(input("Starting amount: "))
    r = float(input("Percentage rate, converted to a decimal: "))
    t = int(input("Number of years this investment will grow: "))
    monthly = float(input("Monthly contribution: "))

    annuity = p

    for a in range(12*t):
        annuity = (annuity+monthly)*(1+(r/12))

    print("annuity = ", round(annuity, 2))
    print("Annual income from interest = ", round(annuity*r, 2))



# Solve logarithmic equations
def logarithmic_equations():
    import math

    base = float(input("base: "))
    result = float(input("result: "))

    exp = math.log(result, base)

    print("exponent = ", exp)



# Convert to (and from) scientific notation
def to_scientific_notation():
    import math
    a = float(input("Enter a number: "))
    x1 = math.floor(math.log(a,10))
    n1 = round(a*10**(-x1),2)
    print("Scientific notation:", "a = ", n1, "* 10^", x1)



def from_scientific_notation():
    import math
    decimal = float(input("Enter a number: "))
    result = math.ceil(-math.log(decimal, 10))
    print('Back to standard notation:', result)



def finantial_app():
    print('Options:')
    print('1. Mortgage payment - given principle, rate, time')
    print('2. Time required for money to double - given the rate')
    print('3. Rate of growth - given starting value, time, and ending value')
    print('4. Calculate annuity with monthly or continuous growth')
    print('5. Estimate retirement investment balance')
    print('6. Solve logarithmic equations')
    print('7. Convert to scientific notation')
    print('8. Convert from scientific notation')
    option = int(input('Please choose an option: '))

    if option == 1:
        print(mortage_payments())
    elif option == 2:
        print(time_to_double_continuous())
    elif option == 3:
        print(calculate_growth_rate())
    elif option == 4:
        print(annuity())
    elif option == 5:
        print(retirement_investment_balance())
    elif option == 6:
        print(logarithmic_equations())
    elif option == 7:
        print(to_scientific_notation())
    elif option == 8:
        print(from_scientific_notation())

finantial_app()

